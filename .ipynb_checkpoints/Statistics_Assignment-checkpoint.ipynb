{
 "cells": [
  {
   "cell_type": "code",
   "execution_count": 1,
   "id": "c05aa3b1",
   "metadata": {},
   "outputs": [],
   "source": [
    "# To ignore warnings\n",
    "import warnings\n",
    "warnings.filterwarnings(\"ignore\")\n",
    "import pandas as pd\n",
    "import numpy as np\n",
    "import matplotlib.pyplot as plt\n",
    "import seaborn as sns\n",
    "%matplotlib inline\n",
    "from sklearn import datasets"
   ]
  },
  {
   "cell_type": "code",
   "execution_count": 2,
   "id": "b90e407a",
   "metadata": {},
   "outputs": [
    {
     "name": "stdout",
     "output_type": "stream",
     "text": [
      ".. _boston_dataset:\n",
      "\n",
      "Boston house prices dataset\n",
      "---------------------------\n",
      "\n",
      "**Data Set Characteristics:**  \n",
      "\n",
      "    :Number of Instances: 506 \n",
      "\n",
      "    :Number of Attributes: 13 numeric/categorical predictive. Median Value (attribute 14) is usually the target.\n",
      "\n",
      "    :Attribute Information (in order):\n",
      "        - CRIM     per capita crime rate by town\n",
      "        - ZN       proportion of residential land zoned for lots over 25,000 sq.ft.\n",
      "        - INDUS    proportion of non-retail business acres per town\n",
      "        - CHAS     Charles River dummy variable (= 1 if tract bounds river; 0 otherwise)\n",
      "        - NOX      nitric oxides concentration (parts per 10 million)\n",
      "        - RM       average number of rooms per dwelling\n",
      "        - AGE      proportion of owner-occupied units built prior to 1940\n",
      "        - DIS      weighted distances to five Boston employment centres\n",
      "        - RAD      index of accessibility to radial highways\n",
      "        - TAX      full-value property-tax rate per $10,000\n",
      "        - PTRATIO  pupil-teacher ratio by town\n",
      "        - B        1000(Bk - 0.63)^2 where Bk is the proportion of black people by town\n",
      "        - LSTAT    % lower status of the population\n",
      "        - MEDV     Median value of owner-occupied homes in $1000's\n",
      "\n",
      "    :Missing Attribute Values: None\n",
      "\n",
      "    :Creator: Harrison, D. and Rubinfeld, D.L.\n",
      "\n",
      "This is a copy of UCI ML housing dataset.\n",
      "https://archive.ics.uci.edu/ml/machine-learning-databases/housing/\n",
      "\n",
      "\n",
      "This dataset was taken from the StatLib library which is maintained at Carnegie Mellon University.\n",
      "\n",
      "The Boston house-price data of Harrison, D. and Rubinfeld, D.L. 'Hedonic\n",
      "prices and the demand for clean air', J. Environ. Economics & Management,\n",
      "vol.5, 81-102, 1978.   Used in Belsley, Kuh & Welsch, 'Regression diagnostics\n",
      "...', Wiley, 1980.   N.B. Various transformations are used in the table on\n",
      "pages 244-261 of the latter.\n",
      "\n",
      "The Boston house-price data has been used in many machine learning papers that address regression\n",
      "problems.   \n",
      "     \n",
      ".. topic:: References\n",
      "\n",
      "   - Belsley, Kuh & Welsch, 'Regression diagnostics: Identifying Influential Data and Sources of Collinearity', Wiley, 1980. 244-261.\n",
      "   - Quinlan,R. (1993). Combining Instance-Based and Model-Based Learning. In Proceedings on the Tenth International Conference of Machine Learning, 236-243, University of Massachusetts, Amherst. Morgan Kaufmann.\n",
      "\n"
     ]
    }
   ],
   "source": [
    "\n",
    "boston = datasets.load_boston()\n",
    "print(boston.DESCR)"
   ]
  },
  {
   "cell_type": "markdown",
   "id": "f7fc12c4",
   "metadata": {},
   "source": [
    "## Q1: Save the dataset into pandas dataframe"
   ]
  },
  {
   "cell_type": "code",
   "execution_count": 3,
   "id": "838afb03",
   "metadata": {},
   "outputs": [
    {
     "data": {
      "text/html": [
       "<div>\n",
       "<style scoped>\n",
       "    .dataframe tbody tr th:only-of-type {\n",
       "        vertical-align: middle;\n",
       "    }\n",
       "\n",
       "    .dataframe tbody tr th {\n",
       "        vertical-align: top;\n",
       "    }\n",
       "\n",
       "    .dataframe thead th {\n",
       "        text-align: right;\n",
       "    }\n",
       "</style>\n",
       "<table border=\"1\" class=\"dataframe\">\n",
       "  <thead>\n",
       "    <tr style=\"text-align: right;\">\n",
       "      <th></th>\n",
       "      <th>CRIM</th>\n",
       "      <th>ZN</th>\n",
       "      <th>INDUS</th>\n",
       "      <th>CHAS</th>\n",
       "      <th>NOX</th>\n",
       "      <th>RM</th>\n",
       "      <th>AGE</th>\n",
       "      <th>DIS</th>\n",
       "      <th>RAD</th>\n",
       "      <th>TAX</th>\n",
       "      <th>PTRATIO</th>\n",
       "      <th>B</th>\n",
       "      <th>LSTAT</th>\n",
       "      <th>target</th>\n",
       "    </tr>\n",
       "  </thead>\n",
       "  <tbody>\n",
       "    <tr>\n",
       "      <th>0</th>\n",
       "      <td>0.00632</td>\n",
       "      <td>18.0</td>\n",
       "      <td>2.31</td>\n",
       "      <td>0.0</td>\n",
       "      <td>0.538</td>\n",
       "      <td>6.575</td>\n",
       "      <td>65.2</td>\n",
       "      <td>4.0900</td>\n",
       "      <td>1.0</td>\n",
       "      <td>296.0</td>\n",
       "      <td>15.3</td>\n",
       "      <td>396.90</td>\n",
       "      <td>4.98</td>\n",
       "      <td>24.0</td>\n",
       "    </tr>\n",
       "    <tr>\n",
       "      <th>1</th>\n",
       "      <td>0.02731</td>\n",
       "      <td>0.0</td>\n",
       "      <td>7.07</td>\n",
       "      <td>0.0</td>\n",
       "      <td>0.469</td>\n",
       "      <td>6.421</td>\n",
       "      <td>78.9</td>\n",
       "      <td>4.9671</td>\n",
       "      <td>2.0</td>\n",
       "      <td>242.0</td>\n",
       "      <td>17.8</td>\n",
       "      <td>396.90</td>\n",
       "      <td>9.14</td>\n",
       "      <td>21.6</td>\n",
       "    </tr>\n",
       "    <tr>\n",
       "      <th>2</th>\n",
       "      <td>0.02729</td>\n",
       "      <td>0.0</td>\n",
       "      <td>7.07</td>\n",
       "      <td>0.0</td>\n",
       "      <td>0.469</td>\n",
       "      <td>7.185</td>\n",
       "      <td>61.1</td>\n",
       "      <td>4.9671</td>\n",
       "      <td>2.0</td>\n",
       "      <td>242.0</td>\n",
       "      <td>17.8</td>\n",
       "      <td>392.83</td>\n",
       "      <td>4.03</td>\n",
       "      <td>34.7</td>\n",
       "    </tr>\n",
       "    <tr>\n",
       "      <th>3</th>\n",
       "      <td>0.03237</td>\n",
       "      <td>0.0</td>\n",
       "      <td>2.18</td>\n",
       "      <td>0.0</td>\n",
       "      <td>0.458</td>\n",
       "      <td>6.998</td>\n",
       "      <td>45.8</td>\n",
       "      <td>6.0622</td>\n",
       "      <td>3.0</td>\n",
       "      <td>222.0</td>\n",
       "      <td>18.7</td>\n",
       "      <td>394.63</td>\n",
       "      <td>2.94</td>\n",
       "      <td>33.4</td>\n",
       "    </tr>\n",
       "    <tr>\n",
       "      <th>4</th>\n",
       "      <td>0.06905</td>\n",
       "      <td>0.0</td>\n",
       "      <td>2.18</td>\n",
       "      <td>0.0</td>\n",
       "      <td>0.458</td>\n",
       "      <td>7.147</td>\n",
       "      <td>54.2</td>\n",
       "      <td>6.0622</td>\n",
       "      <td>3.0</td>\n",
       "      <td>222.0</td>\n",
       "      <td>18.7</td>\n",
       "      <td>396.90</td>\n",
       "      <td>5.33</td>\n",
       "      <td>36.2</td>\n",
       "    </tr>\n",
       "  </tbody>\n",
       "</table>\n",
       "</div>"
      ],
      "text/plain": [
       "      CRIM    ZN  INDUS  CHAS    NOX     RM   AGE     DIS  RAD    TAX  \\\n",
       "0  0.00632  18.0   2.31   0.0  0.538  6.575  65.2  4.0900  1.0  296.0   \n",
       "1  0.02731   0.0   7.07   0.0  0.469  6.421  78.9  4.9671  2.0  242.0   \n",
       "2  0.02729   0.0   7.07   0.0  0.469  7.185  61.1  4.9671  2.0  242.0   \n",
       "3  0.03237   0.0   2.18   0.0  0.458  6.998  45.8  6.0622  3.0  222.0   \n",
       "4  0.06905   0.0   2.18   0.0  0.458  7.147  54.2  6.0622  3.0  222.0   \n",
       "\n",
       "   PTRATIO       B  LSTAT  target  \n",
       "0     15.3  396.90   4.98    24.0  \n",
       "1     17.8  396.90   9.14    21.6  \n",
       "2     17.8  392.83   4.03    34.7  \n",
       "3     18.7  394.63   2.94    33.4  \n",
       "4     18.7  396.90   5.33    36.2  "
      ]
     },
     "execution_count": 3,
     "metadata": {},
     "output_type": "execute_result"
    }
   ],
   "source": [
    "df_boston = pd.DataFrame(boston.data, columns=boston.feature_names)\n",
    "df_boston['target'] = pd.Series(boston.target)\n",
    "df_boston.head()"
   ]
  },
  {
   "cell_type": "markdown",
   "id": "79e777fa",
   "metadata": {},
   "source": [
    "## Q2: Use different histograms to plot features that have right, left and zero skew."
   ]
  },
  {
   "cell_type": "code",
   "execution_count": 4,
   "id": "87eaee74",
   "metadata": {},
   "outputs": [
    {
     "data": {
      "image/png": "[encoded data removed]",
      "text/plain": [
       "<Figure size 432x288 with 16 Axes>"
      ]
     },
     "metadata": {
      "needs_background": "light"
     },
     "output_type": "display_data"
    }
   ],
   "source": [
    "#showing all histogram\n",
    "df_boston.hist()\n",
    "plt.show()"
   ]
  },
  {
   "cell_type": "code",
   "execution_count": 6,
   "id": "744bd6e8",
   "metadata": {},
   "outputs": [
    {
     "data": {
      "image/png": "[encoded data removed]",
      "text/plain": [
       "<Figure size 432x288 with 1 Axes>"
      ]
     },
     "metadata": {
      "needs_background": "light"
     },
     "output_type": "display_data"
    }
   ],
   "source": [
    "#right skew\n",
    "plt.hist(df_boston['CRIM'])\n",
    "plt.title(\"CRIM skewness\")\n",
    "plt.show()"
   ]
  },
  {
   "cell_type": "code",
   "execution_count": 7,
   "id": "eae1081f",
   "metadata": {},
   "outputs": [
    {
     "data": {
      "image/png": "[encoded data removed]",
      "text/plain": [
       "<Figure size 432x288 with 1 Axes>"
      ]
     },
     "metadata": {
      "needs_background": "light"
     },
     "output_type": "display_data"
    }
   ],
   "source": [
    "#left skew\n",
    "plt.hist(df_boston['B']);\n",
    "plt.title(\"B skewness\")\n",
    "plt.show()"
   ]
  },
  {
   "cell_type": "code",
   "execution_count": 8,
   "id": "a5f24a9e",
   "metadata": {},
   "outputs": [
    {
     "data": {
      "image/png": "[encoded data removed]",
      "text/plain": [
       "<Figure size 432x288 with 1 Axes>"
      ]
     },
     "metadata": {
      "needs_background": "light"
     },
     "output_type": "display_data"
    }
   ],
   "source": [
    "#zero skew\n",
    "plt.hist(df_boston['RM'])\n",
    "plt.title(\"RM skewness\")\n",
    "plt.show()"
   ]
  },
  {
   "cell_type": "markdown",
   "id": "15794b7f",
   "metadata": {},
   "source": [
    "## Q3: Prove your previous result using mean, median and mode."
   ]
  },
  {
   "cell_type": "code",
   "execution_count": 9,
   "id": "b3e84f87",
   "metadata": {},
   "outputs": [
    {
     "name": "stdout",
     "output_type": "stream",
     "text": [
      "CRIM         3.613524\n",
      "ZN          11.363636\n",
      "INDUS       11.136779\n",
      "CHAS         0.069170\n",
      "NOX          0.554695\n",
      "RM           6.284634\n",
      "AGE         68.574901\n",
      "DIS          3.795043\n",
      "RAD          9.549407\n",
      "TAX        408.237154\n",
      "PTRATIO     18.455534\n",
      "B          356.674032\n",
      "LSTAT       12.653063\n",
      "target      22.532806\n",
      "dtype: float64\n"
     ]
    }
   ],
   "source": [
    "print(df_boston.mean(numeric_only=True))"
   ]
  },
  {
   "cell_type": "code",
   "execution_count": 10,
   "id": "f6853053",
   "metadata": {},
   "outputs": [
    {
     "name": "stdout",
     "output_type": "stream",
     "text": [
      "CRIM         0.25651\n",
      "ZN           0.00000\n",
      "INDUS        9.69000\n",
      "CHAS         0.00000\n",
      "NOX          0.53800\n",
      "RM           6.20850\n",
      "AGE         77.50000\n",
      "DIS          3.20745\n",
      "RAD          5.00000\n",
      "TAX        330.00000\n",
      "PTRATIO     19.05000\n",
      "B          391.44000\n",
      "LSTAT       11.36000\n",
      "target      21.20000\n",
      "dtype: float64\n"
     ]
    }
   ],
   "source": [
    "print(df_boston.median(numeric_only=True))"
   ]
  },
  {
   "cell_type": "code",
   "execution_count": 11,
   "id": "f981e5f2",
   "metadata": {},
   "outputs": [
    {
     "name": "stdout",
     "output_type": "stream",
     "text": [
      "       CRIM   ZN  INDUS  CHAS    NOX     RM    AGE     DIS   RAD    TAX  \\\n",
      "0   0.01501  0.0   18.1   0.0  0.538  5.713  100.0  3.4952  24.0  666.0   \n",
      "1  14.33370  NaN    NaN   NaN    NaN  6.127    NaN     NaN   NaN    NaN   \n",
      "2       NaN  NaN    NaN   NaN    NaN  6.167    NaN     NaN   NaN    NaN   \n",
      "3       NaN  NaN    NaN   NaN    NaN  6.229    NaN     NaN   NaN    NaN   \n",
      "4       NaN  NaN    NaN   NaN    NaN  6.405    NaN     NaN   NaN    NaN   \n",
      "5       NaN  NaN    NaN   NaN    NaN  6.417    NaN     NaN   NaN    NaN   \n",
      "\n",
      "   PTRATIO      B  LSTAT  target  \n",
      "0     20.2  396.9   6.36    50.0  \n",
      "1      NaN    NaN   7.79     NaN  \n",
      "2      NaN    NaN   8.05     NaN  \n",
      "3      NaN    NaN  14.10     NaN  \n",
      "4      NaN    NaN  18.13     NaN  \n",
      "5      NaN    NaN    NaN     NaN  \n"
     ]
    }
   ],
   "source": [
    "print(df_boston.mode(numeric_only=True))"
   ]
  },
  {
   "cell_type": "markdown",
   "id": "91f8e019",
   "metadata": {},
   "source": [
    "## Q4: Use Skew function of Pandas to print skewness of each feature."
   ]
  },
  {
   "cell_type": "code",
   "execution_count": 12,
   "id": "35ea244c",
   "metadata": {},
   "outputs": [
    {
     "data": {
      "text/plain": [
       "CRIM       5.223149\n",
       "ZN         2.225666\n",
       "INDUS      0.295022\n",
       "CHAS       3.405904\n",
       "NOX        0.729308\n",
       "RM         0.403612\n",
       "AGE       -0.598963\n",
       "DIS        1.011781\n",
       "RAD        1.004815\n",
       "TAX        0.669956\n",
       "PTRATIO   -0.802325\n",
       "B         -2.890374\n",
       "LSTAT      0.906460\n",
       "target     1.108098\n",
       "dtype: float64"
      ]
     },
     "execution_count": 12,
     "metadata": {},
     "output_type": "execute_result"
    }
   ],
   "source": [
    "# skewness along the index axis\n",
    "df_boston.skew(axis = 0, skipna = True)"
   ]
  },
  {
   "cell_type": "markdown",
   "id": "2d4455a5",
   "metadata": {},
   "source": [
    "## Q5: Use numpy to draw normal distribution."
   ]
  },
  {
   "cell_type": "code",
   "execution_count": 13,
   "id": "8b4cebd2",
   "metadata": {},
   "outputs": [
    {
     "data": {
      "image/png": "[encoded data removed]",
      "text/plain": [
       "<Figure size 432x288 with 1 Axes>"
      ]
     },
     "metadata": {
      "needs_background": "light"
     },
     "output_type": "display_data"
    }
   ],
   "source": [
    "#defining np array\n",
    "normalmDist = np.random.normal(-1,1,1000)\n",
    " \n",
    "#Plotting the results\n",
    "plt.hist(normalmDist)\n",
    "plt.title(\"Normal Distribution\")\n",
    "plt.show()"
   ]
  },
  {
   "cell_type": "markdown",
   "id": "cf7845ba",
   "metadata": {},
   "source": [
    "## Q6: Use numpy to draw uniform distribution."
   ]
  },
  {
   "cell_type": "code",
   "execution_count": 14,
   "id": "b0882003",
   "metadata": {},
   "outputs": [
    {
     "data": {
      "image/png": "[encoded data removed]",
      "text/plain": [
       "<Figure size 432x288 with 1 Axes>"
      ]
     },
     "metadata": {
      "needs_background": "light"
     },
     "output_type": "display_data"
    }
   ],
   "source": [
    "#defining np array\n",
    "uniformDist = np.random.uniform(-1,0,1000)\n",
    " \n",
    "#Plotting the results\n",
    "plt.hist(uniformDist)\n",
    "plt.title(\"Uniform Distribution\")\n",
    "plt.show()"
   ]
  },
  {
   "cell_type": "markdown",
   "id": "c47173dd",
   "metadata": {},
   "source": [
    "## Q7: Use numpy to draw binomial distribution."
   ]
  },
  {
   "cell_type": "code",
   "execution_count": 15,
   "id": "714935f1",
   "metadata": {},
   "outputs": [
    {
     "data": {
      "image/png": "[encoded data removed]",
      "text/plain": [
       "<Figure size 432x288 with 1 Axes>"
      ]
     },
     "metadata": {
      "needs_background": "light"
     },
     "output_type": "display_data"
    }
   ],
   "source": [
    "#defining np array\n",
    "binomialDist = np.random.binomial(50,0.5,1000)\n",
    " \n",
    "#Plotting the results\n",
    "plt.hist(binomialDist)\n",
    "plt.title(\"Binomial Distribution\")\n",
    "plt.show()"
   ]
  },
  {
   "cell_type": "markdown",
   "id": "6030f2ae",
   "metadata": {},
   "source": [
    "## Q8: Simulate Two Coin Flips, then draw the result distribution."
   ]
  },
  {
   "cell_type": "code",
   "execution_count": 16,
   "id": "772409a3",
   "metadata": {},
   "outputs": [
    {
     "data": {
      "image/png": "[encoded data removed]",
      "text/plain": [
       "<Figure size 432x288 with 1 Axes>"
      ]
     },
     "metadata": {
      "needs_background": "light"
     },
     "output_type": "display_data"
    }
   ],
   "source": [
    "#coinFlips=numpy.random.binomial(two coins, probability, number of flips)\n",
    "coinFlips=np.random.binomial(2,0.5,100)\n",
    "\n",
    "#Plotting the results\n",
    "plt.hist(coinFlips)\n",
    "plt.title(\"Coinflip Simulation\")\n",
    "plt.show()"
   ]
  },
  {
   "cell_type": "markdown",
   "id": "5275dbfd",
   "metadata": {},
   "source": [
    "## Q9: Summary of Descriptive Statistics"
   ]
  },
  {
   "cell_type": "markdown",
   "id": "9ee1e893",
   "metadata": {},
   "source": [
    "1. Using scipy.stats\n",
    "- nobs: the number of observations or elements in your dataset\n",
    "- minmax: the tuple with the minimum and maximum values of your dataset\n",
    "- mean: the mean of your dataset\n",
    "- variance: the variance of your dataset\n",
    "- skewness: the skewness of your dataset\n",
    "- kurtosis: the kurtosis of your dataset"
   ]
  },
  {
   "cell_type": "code",
   "execution_count": 17,
   "id": "09596d49",
   "metadata": {},
   "outputs": [
    {
     "data": {
      "text/plain": [
       "{'nobs': 506,\n",
       " 'minmax': (array([6.3200e-03, 0.0000e+00, 4.6000e-01, 0.0000e+00, 3.8500e-01,\n",
       "         3.5610e+00, 2.9000e+00, 1.1296e+00, 1.0000e+00, 1.8700e+02,\n",
       "         1.2600e+01, 3.2000e-01, 1.7300e+00, 5.0000e+00]),\n",
       "  array([ 88.9762, 100.    ,  27.74  ,   1.    ,   0.871 ,   8.78  ,\n",
       "         100.    ,  12.1265,  24.    , 711.    ,  22.    , 396.9   ,\n",
       "          37.97  ,  50.    ])),\n",
       " 'mean': array([3.61352356e+00, 1.13636364e+01, 1.11367787e+01, 6.91699605e-02,\n",
       "        5.54695059e-01, 6.28463439e+00, 6.85749012e+01, 3.79504269e+00,\n",
       "        9.54940711e+00, 4.08237154e+02, 1.84555336e+01, 3.56674032e+02,\n",
       "        1.26530632e+01, 2.25328063e+01]),\n",
       " 'variance': array([7.39865782e+01, 5.43936814e+02, 4.70644425e+01, 6.45129730e-02,\n",
       "        1.34276357e-02, 4.93670850e-01, 7.92358399e+02, 4.43401514e+00,\n",
       "        7.58163660e+01, 2.84047595e+04, 4.68698912e+00, 8.33475226e+03,\n",
       "        5.09947595e+01, 8.45867236e+01]),\n",
       " 'skewness': array([ 5.20765239,  2.21906306,  0.29414628,  3.39579929,  0.72714416,\n",
       "         0.40241467, -0.59718559,  1.00877876,  1.00183349,  0.66796827,\n",
       "        -0.79994453, -2.88179835,  0.90377074,  1.10481082]),\n",
       " 'kurtosis': array([36.75278626,  3.97994877, -1.23321847,  9.53145284, -0.07586422,\n",
       "         1.86102697, -0.97001393,  0.47129857, -0.8705205 , -1.14298488,\n",
       "        -0.29411638,  7.14376929,  0.47654476,  1.46862877])}"
      ]
     },
     "execution_count": 17,
     "metadata": {},
     "output_type": "execute_result"
    }
   ],
   "source": [
    "from scipy import stats\n",
    "import scipy\n",
    "\n",
    "dfStats=scipy.stats.describe(df_boston)._asdict()\n",
    "\n",
    "dfStats"
   ]
  },
  {
   "cell_type": "markdown",
   "id": "03194c30",
   "metadata": {},
   "source": [
    "2. method .describe()\n",
    "- count: the number of elements in your dataset\n",
    "- mean: the mean of your dataset\n",
    "- std: the standard deviation of your dataset\n",
    "- min and max: the minimum and maximum values of your dataset\n",
    "- 25%, 50%, and 75%: the quartiles of your dataset"
   ]
  },
  {
   "cell_type": "code",
   "execution_count": 18,
   "id": "3834b7e7",
   "metadata": {},
   "outputs": [
    {
     "data": {
      "text/html": [
       "<div>\n",
       "<style scoped>\n",
       "    .dataframe tbody tr th:only-of-type {\n",
       "        vertical-align: middle;\n",
       "    }\n",
       "\n",
       "    .dataframe tbody tr th {\n",
       "        vertical-align: top;\n",
       "    }\n",
       "\n",
       "    .dataframe thead th {\n",
       "        text-align: right;\n",
       "    }\n",
       "</style>\n",
       "<table border=\"1\" class=\"dataframe\">\n",
       "  <thead>\n",
       "    <tr style=\"text-align: right;\">\n",
       "      <th></th>\n",
       "      <th>CRIM</th>\n",
       "      <th>ZN</th>\n",
       "      <th>INDUS</th>\n",
       "      <th>CHAS</th>\n",
       "      <th>NOX</th>\n",
       "      <th>RM</th>\n",
       "      <th>AGE</th>\n",
       "      <th>DIS</th>\n",
       "      <th>RAD</th>\n",
       "      <th>TAX</th>\n",
       "      <th>PTRATIO</th>\n",
       "      <th>B</th>\n",
       "      <th>LSTAT</th>\n",
       "      <th>target</th>\n",
       "    </tr>\n",
       "  </thead>\n",
       "  <tbody>\n",
       "    <tr>\n",
       "      <th>count</th>\n",
       "      <td>506.000000</td>\n",
       "      <td>506.000000</td>\n",
       "      <td>506.000000</td>\n",
       "      <td>506.000000</td>\n",
       "      <td>506.000000</td>\n",
       "      <td>506.000000</td>\n",
       "      <td>506.000000</td>\n",
       "      <td>506.000000</td>\n",
       "      <td>506.000000</td>\n",
       "      <td>506.000000</td>\n",
       "      <td>506.000000</td>\n",
       "      <td>506.000000</td>\n",
       "      <td>506.000000</td>\n",
       "      <td>506.000000</td>\n",
       "    </tr>\n",
       "    <tr>\n",
       "      <th>mean</th>\n",
       "      <td>3.613524</td>\n",
       "      <td>11.363636</td>\n",
       "      <td>11.136779</td>\n",
       "      <td>0.069170</td>\n",
       "      <td>0.554695</td>\n",
       "      <td>6.284634</td>\n",
       "      <td>68.574901</td>\n",
       "      <td>3.795043</td>\n",
       "      <td>9.549407</td>\n",
       "      <td>408.237154</td>\n",
       "      <td>18.455534</td>\n",
       "      <td>356.674032</td>\n",
       "      <td>12.653063</td>\n",
       "      <td>22.532806</td>\n",
       "    </tr>\n",
       "    <tr>\n",
       "      <th>std</th>\n",
       "      <td>8.601545</td>\n",
       "      <td>23.322453</td>\n",
       "      <td>6.860353</td>\n",
       "      <td>0.253994</td>\n",
       "      <td>0.115878</td>\n",
       "      <td>0.702617</td>\n",
       "      <td>28.148861</td>\n",
       "      <td>2.105710</td>\n",
       "      <td>8.707259</td>\n",
       "      <td>168.537116</td>\n",
       "      <td>2.164946</td>\n",
       "      <td>91.294864</td>\n",
       "      <td>7.141062</td>\n",
       "      <td>9.197104</td>\n",
       "    </tr>\n",
       "    <tr>\n",
       "      <th>min</th>\n",
       "      <td>0.006320</td>\n",
       "      <td>0.000000</td>\n",
       "      <td>0.460000</td>\n",
       "      <td>0.000000</td>\n",
       "      <td>0.385000</td>\n",
       "      <td>3.561000</td>\n",
       "      <td>2.900000</td>\n",
       "      <td>1.129600</td>\n",
       "      <td>1.000000</td>\n",
       "      <td>187.000000</td>\n",
       "      <td>12.600000</td>\n",
       "      <td>0.320000</td>\n",
       "      <td>1.730000</td>\n",
       "      <td>5.000000</td>\n",
       "    </tr>\n",
       "    <tr>\n",
       "      <th>25%</th>\n",
       "      <td>0.082045</td>\n",
       "      <td>0.000000</td>\n",
       "      <td>5.190000</td>\n",
       "      <td>0.000000</td>\n",
       "      <td>0.449000</td>\n",
       "      <td>5.885500</td>\n",
       "      <td>45.025000</td>\n",
       "      <td>2.100175</td>\n",
       "      <td>4.000000</td>\n",
       "      <td>279.000000</td>\n",
       "      <td>17.400000</td>\n",
       "      <td>375.377500</td>\n",
       "      <td>6.950000</td>\n",
       "      <td>17.025000</td>\n",
       "    </tr>\n",
       "    <tr>\n",
       "      <th>50%</th>\n",
       "      <td>0.256510</td>\n",
       "      <td>0.000000</td>\n",
       "      <td>9.690000</td>\n",
       "      <td>0.000000</td>\n",
       "      <td>0.538000</td>\n",
       "      <td>6.208500</td>\n",
       "      <td>77.500000</td>\n",
       "      <td>3.207450</td>\n",
       "      <td>5.000000</td>\n",
       "      <td>330.000000</td>\n",
       "      <td>19.050000</td>\n",
       "      <td>391.440000</td>\n",
       "      <td>11.360000</td>\n",
       "      <td>21.200000</td>\n",
       "    </tr>\n",
       "    <tr>\n",
       "      <th>75%</th>\n",
       "      <td>3.677083</td>\n",
       "      <td>12.500000</td>\n",
       "      <td>18.100000</td>\n",
       "      <td>0.000000</td>\n",
       "      <td>0.624000</td>\n",
       "      <td>6.623500</td>\n",
       "      <td>94.075000</td>\n",
       "      <td>5.188425</td>\n",
       "      <td>24.000000</td>\n",
       "      <td>666.000000</td>\n",
       "      <td>20.200000</td>\n",
       "      <td>396.225000</td>\n",
       "      <td>16.955000</td>\n",
       "      <td>25.000000</td>\n",
       "    </tr>\n",
       "    <tr>\n",
       "      <th>max</th>\n",
       "      <td>88.976200</td>\n",
       "      <td>100.000000</td>\n",
       "      <td>27.740000</td>\n",
       "      <td>1.000000</td>\n",
       "      <td>0.871000</td>\n",
       "      <td>8.780000</td>\n",
       "      <td>100.000000</td>\n",
       "      <td>12.126500</td>\n",
       "      <td>24.000000</td>\n",
       "      <td>711.000000</td>\n",
       "      <td>22.000000</td>\n",
       "      <td>396.900000</td>\n",
       "      <td>37.970000</td>\n",
       "      <td>50.000000</td>\n",
       "    </tr>\n",
       "  </tbody>\n",
       "</table>\n",
       "</div>"
      ],
      "text/plain": [
       "             CRIM          ZN       INDUS        CHAS         NOX          RM  \\\n",
       "count  506.000000  506.000000  506.000000  506.000000  506.000000  506.000000   \n",
       "mean     3.613524   11.363636   11.136779    0.069170    0.554695    6.284634   \n",
       "std      8.601545   23.322453    6.860353    0.253994    0.115878    0.702617   \n",
       "min      0.006320    0.000000    0.460000    0.000000    0.385000    3.561000   \n",
       "25%      0.082045    0.000000    5.190000    0.000000    0.449000    5.885500   \n",
       "50%      0.256510    0.000000    9.690000    0.000000    0.538000    6.208500   \n",
       "75%      3.677083   12.500000   18.100000    0.000000    0.624000    6.623500   \n",
       "max     88.976200  100.000000   27.740000    1.000000    0.871000    8.780000   \n",
       "\n",
       "              AGE         DIS         RAD         TAX     PTRATIO           B  \\\n",
       "count  506.000000  506.000000  506.000000  506.000000  506.000000  506.000000   \n",
       "mean    68.574901    3.795043    9.549407  408.237154   18.455534  356.674032   \n",
       "std     28.148861    2.105710    8.707259  168.537116    2.164946   91.294864   \n",
       "min      2.900000    1.129600    1.000000  187.000000   12.600000    0.320000   \n",
       "25%     45.025000    2.100175    4.000000  279.000000   17.400000  375.377500   \n",
       "50%     77.500000    3.207450    5.000000  330.000000   19.050000  391.440000   \n",
       "75%     94.075000    5.188425   24.000000  666.000000   20.200000  396.225000   \n",
       "max    100.000000   12.126500   24.000000  711.000000   22.000000  396.900000   \n",
       "\n",
       "            LSTAT      target  \n",
       "count  506.000000  506.000000  \n",
       "mean    12.653063   22.532806  \n",
       "std      7.141062    9.197104  \n",
       "min      1.730000    5.000000  \n",
       "25%      6.950000   17.025000  \n",
       "50%     11.360000   21.200000  \n",
       "75%     16.955000   25.000000  \n",
       "max     37.970000   50.000000  "
      ]
     },
     "execution_count": 18,
     "metadata": {},
     "output_type": "execute_result"
    }
   ],
   "source": [
    "df_boston.describe()"
   ]
  },
  {
   "cell_type": "markdown",
   "id": "c54aca0e",
   "metadata": {},
   "source": [
    "# Q9: Summarize the differences between the Z-test and the T-test in three sentences."
   ]
  },
  {
   "cell_type": "markdown",
   "id": "a50ef74a",
   "metadata": {},
   "source": [
    "- Z-Test is used for 30 or more samples whereas T-test is used in 30 or less samples.\n",
    "- Z-Tests require you to know the population standard deviation, while T-Tests use a sample estimate of the standard deviation.\n",
    "- T-Tests are mostly used because most of the time, you will have a sample estimate."
   ]
  },
  {
   "cell_type": "markdown",
   "id": "881945c0",
   "metadata": {},
   "source": [
    "## Calculate"
   ]
  },
  {
   "cell_type": "markdown",
   "id": "90f9af83",
   "metadata": {},
   "source": [
    "Let's assume that a class's average score is higher than 70 with a standard deviation of 10.\n",
    "Calculate the Z-value to determine whether there is sufficient data to support this claim at a 0.05 \n",
    "significance level if a sample of 50 students was chosen and their mean score was 80."
   ]
  },
  {
   "cell_type": "code",
   "execution_count": 19,
   "id": "57964d62",
   "metadata": {},
   "outputs": [
    {
     "name": "stdout",
     "output_type": "stream",
     "text": [
      "Z-value is: 7.0710678118654755\n",
      "Z-value is out of (-1.96 and 1.96) bounds which means there is insufficient data.\n"
     ]
    }
   ],
   "source": [
    "import math\n",
    "\n",
    "#z=(x-m)/(o/n.sqrt)\n",
    "\n",
    "#x -> sample mean\n",
    "x=80\n",
    "#m -> population mean\n",
    "m=70\n",
    "#o -> standard deviation\n",
    "o=10\n",
    "#n -> number of samples\n",
    "n=50\n",
    "\n",
    "#z value\n",
    "z=(x-m)/((o)/(math.sqrt(n)))\n",
    "\n",
    "print(\"Z-value is:\", z )\n",
    "#after representing the 0.05 significance, the z score needs to be in range of -1.96 and 1.96\n",
    "print(\"Z-value is out of (-1.96 and 1.96) bounds which means there is insufficient data.\")\n"
   ]
  },
  {
   "cell_type": "markdown",
   "id": "3a137a23",
   "metadata": {},
   "source": [
    "An establishment wants to boost sales. According to past sales data, each sale made by 30 salesmen averaged \n",
    "40 dollar. The most recent data indicated that an average sale per transaction was 60 dollar after some training.Find the t-value for a 20 dollar standard deviation. Did a training program increase sales?"
   ]
  },
  {
   "cell_type": "code",
   "execution_count": 20,
   "id": "712b063b",
   "metadata": {},
   "outputs": [
    {
     "name": "stdout",
     "output_type": "stream",
     "text": [
      "The training program increased the sales because T value  5.477225575051661  > critical t value 2.0452\n"
     ]
    }
   ],
   "source": [
    "#use t test\n",
    "\n",
    "#t=(xdT)/(oT/math.sqrt(n))\n",
    "\n",
    "#our T critical value is 2.0452 (fetched from T table)\n",
    "\n",
    "#xdT -> mean difference (difference/number of different scores)\n",
    "xdT= (60-40)/1\n",
    "#oT -> standard deviation\n",
    "oT=20\n",
    "#nT -> sample \n",
    "nT=30\n",
    "#T value\n",
    "t=(xdT)/(oT/math.sqrt(nT))\n",
    "print(\"The training program increased the sales because T value \",t,\" > critical t value 2.0452\")"
   ]
  },
  {
   "cell_type": "code",
   "execution_count": null,
   "id": "920d630e",
   "metadata": {},
   "outputs": [],
   "source": [
    "# references (youtube)\n",
    "#statslectures\n",
    "#Vectors Academy\n",
    "#Khan Academy\n",
    "#The Organic Chemistry Tutor"
   ]
  }
 ],
 "metadata": {
  "kernelspec": {
   "display_name": "Python 3 (ipykernel)",
   "language": "python",
   "name": "python3"
  },
  "language_info": {
   "codemirror_mode": {
    "name": "ipython",
    "version": 3
   },
   "file_extension": ".py",
   "mimetype": "text/x-python",
   "name": "python",
   "nbconvert_exporter": "python",
   "pygments_lexer": "ipython3",
   "version": "3.9.12"
  }
 },
 "nbformat": 4,
 "nbformat_minor": 5
}
